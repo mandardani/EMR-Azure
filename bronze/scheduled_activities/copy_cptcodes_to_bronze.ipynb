{
 "cells": [
  {
   "cell_type": "code",
   "execution_count": 0,
   "metadata": {
    "application/vnd.databricks.v1+cell": {
     "cellMetadata": {
      "byteLimit": 2048000,
      "rowLimit": 10000
     },
     "inputWidgets": {},
     "nuid": "20ff1ac3-01ab-48e5-a8f2-007999ac330c",
     "showTitle": false,
     "tableResultSettingsMap": {},
     "title": ""
    }
   },
   "outputs": [],
   "source": [
    "# Databricks notebook source\n",
    "from pyspark.sql import SparkSession, functions as f\n",
    "\n",
    "file_path = \"abfss://landing@emrgen2.dfs.core.windows.net/cptcodes/*.csv\"\n",
    "cptcodes_df = spark.read.format(\"csv\").option(\"header\",\"true\").load(file_path)\n",
    "\n",
    "#col name changes: convert to lower case and replace whitespace by _  \n",
    "\n",
    "for col in cptcodes_df.columns:\n",
    "    cptcodes_df = cptcodes_df.withColumnRenamed(col, col.replace(\" \", \"_\").lower())\n",
    "    \n",
    "\n",
    "cptcodes_df.write.format(\"parquet\").mode(\"overwrite\").save(\"abfss://bronze@emrgen2.dfs.core.windows.net/cpt_codes\")\n",
    "\n"
   ]
  },
  {
   "cell_type": "code",
   "execution_count": 0,
   "metadata": {
    "application/vnd.databricks.v1+cell": {
     "cellMetadata": {
      "byteLimit": 2048000,
      "rowLimit": 10000
     },
     "inputWidgets": {},
     "nuid": "2a70bcbe-49b6-4e29-b8a2-e7a66ccd30a9",
     "showTitle": false,
     "tableResultSettingsMap": {},
     "title": ""
    }
   },
   "outputs": [],
   "source": [
    "file_list = dbutils.fs.ls(source_path)\n",
    "df = spark.createDataFrame(file_list)\n",
    "from pyspark.sql.functions import col\n",
    "df = df.select(\"path\",\"name\", (col(\"modificationTime\")/1000).cast(\"timestamp\").alias(\"modificationTime\"))\n",
    "display(df.columns)\n"
   ]
  },
  {
   "cell_type": "code",
   "execution_count": 0,
   "metadata": {
    "application/vnd.databricks.v1+cell": {
     "cellMetadata": {
      "byteLimit": 2048000,
      "rowLimit": 10000
     },
     "inputWidgets": {},
     "nuid": "92ffe2e7-79d5-4470-b179-d67b447a3e0f",
     "showTitle": false,
     "tableResultSettingsMap": {},
     "title": ""
    }
   },
   "outputs": [],
   "source": [
    "files_to_process = []\n",
    "file_list = dbutils.fs.ls(source_path)\n",
    "\n",
    "# Filter for files that are not the archive directory and were modified after the cutoff\n",
    "for file_info in file_list:\n",
    "    # dbutils.fs.ls modificationTime is in milliseconds, so convert to datetime object for comparison\n",
    "    file_modification_time_utc = datetime.fromtimestamp(file_info.modificationTime / 1000, tz=timezone.utc)\n",
    "    \n",
    "    # Check if the file is a CSV and was modified after 6 a.m. UTC\n",
    "    if file_info.path.endswith(\".csv\") and file_modification_time_utc > cutoff_time_utc:\n",
    "        files_to_process.append(file_info.path)\n",
    "        print(f\"File to process: {file_info.path} (Modified: {file_modification_time_utc})\")\n"
   ]
  },
  {
   "cell_type": "code",
   "execution_count": 0,
   "metadata": {
    "application/vnd.databricks.v1+cell": {
     "cellMetadata": {},
     "inputWidgets": {},
     "nuid": "21ee0526-32ac-4f5d-9ced-650c25145cc1",
     "showTitle": false,
     "tableResultSettingsMap": {},
     "title": ""
    }
   },
   "outputs": [],
   "source": [
    "\n",
    "\n",
    "cptcodes_df = spark.read.format(\"csv\").option(\"header\",\"true\").load(file_path)\n",
    "\n",
    "#col name changes: convert to lower case and replace whitespace by _  \n",
    "\n",
    "for col in cptcodes_df.columns:\n",
    "    cptcodes_df = cptcodes_df.withColumnRenamed(col, col.replace(\" \", \"_\").lower())\n",
    "    \n",
    "\n",
    "cptcodes_df.write.format(\"parquet\").mode(\"overwrite\").save(\"abfss://bronze@emrgen2.dfs.core.windows.net/cpt_codes\")\n",
    "\n"
   ]
  }
 ],
 "metadata": {
  "application/vnd.databricks.v1+notebook": {
   "computePreferences": null,
   "dashboards": [],
   "environmentMetadata": {
    "base_environment": "",
    "environment_version": "2"
   },
   "inputWidgetPreferences": null,
   "language": "python",
   "notebookMetadata": {
    "pythonIndentUnit": 4
   },
   "notebookName": "copy_cptcodes_to_bronze",
   "widgets": {}
  },
  "language_info": {
   "name": "python"
  }
 },
 "nbformat": 4,
 "nbformat_minor": 0
}
