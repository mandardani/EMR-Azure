{
 "cells": [
  {
   "cell_type": "markdown",
   "metadata": {
    "application/vnd.databricks.v1+cell": {
     "cellMetadata": {},
     "inputWidgets": {},
     "nuid": "7083e284-4872-4d47-ab82-608637888079",
     "showTitle": false,
     "tableResultSettingsMap": {},
     "title": ""
    }
   },
   "source": [
    " Extract International Classification of Diseases (ICD-10), from the World Health Organization (WHO) API\n",
    " Store ICD-10 data as a Parquet file in the container bronze, on Azure Data Lake Storage Gen2 (ADLS Gen2) account."
   ]
  },
  {
   "cell_type": "markdown",
   "metadata": {
    "application/vnd.databricks.v1+cell": {
     "cellMetadata": {},
     "inputWidgets": {},
     "nuid": "2dddc001-3a49-4285-afa3-0a95261cf9b3",
     "showTitle": false,
     "tableResultSettingsMap": {},
     "title": ""
    }
   },
   "source": [
    "Client ID and Client Password is stored in Azure Key Vault on Databricks side scope 'KeyVault-ICD-secrets' is created.\n",
    "#secrets/createScope -> DNS name & Resource ID of keyvault taken from key-vault -> setting -> properties\n"
   ]
  },
  {
   "cell_type": "code",
   "execution_count": 0,
   "metadata": {
    "application/vnd.databricks.v1+cell": {
     "cellMetadata": {
      "byteLimit": 2048000,
      "rowLimit": 10000
     },
     "inputWidgets": {},
     "nuid": "4ba5cc50-6db2-412a-881b-4e70cb91870f",
     "showTitle": false,
     "tableResultSettingsMap": {},
     "title": ""
    }
   },
   "outputs": [],
   "source": [
    "\n",
    "import requests\n",
    "# to make http request to webservice\n",
    "from pyspark.sql import SparkSession\n",
    "# dataframes library \n",
    "from pyspark.sql.functions import current_date, lit\n",
    "from datetime import datetime\n",
    "from pyspark.sql.types import StructType, StructField, StringType, DateType, BooleanType\n",
    "\n",
    "#'KeyVault-ICD-secrets' - secret scope in Databricks,linked to an Azure Key Vault.\n",
    "# 'ICD10-client-id' and 'IDC10-client-secret' are the names of the secrets stored within that scope.\n",
    "client_id = dbutils.secrets.get(scope=\"KeyVault-ICD-secrets\", key=\"ICD10-client-id\")\n",
    "client_secret = dbutils.secrets.get(scope=\"KeyVault-ICD-secrets\", key=\"IDC10-client-secret\")\n",
    "\n",
    "base_url = 'https://id.who.int/icd/'\n",
    "current_date=datetime.now().date()\n",
    "\n"
   ]
  },
  {
   "cell_type": "code",
   "execution_count": 0,
   "metadata": {
    "application/vnd.databricks.v1+cell": {
     "cellMetadata": {
      "byteLimit": 2048000,
      "rowLimit": 10000
     },
     "inputWidgets": {},
     "nuid": "334c0239-66a9-464f-9d17-52dda6077600",
     "showTitle": false,
     "tableResultSettingsMap": {},
     "title": ""
    }
   },
   "outputs": [],
   "source": [
    "# Get access token from the WHO ICD API. This token is required for making authorized requests to fetch the actual ICD10 data.\n",
    "auth_url = 'https://icdaccessmanagement.who.int/connect/token'\n",
    "auth_response = requests.post(auth_url, data={\n",
    "    'client_id': client_id,\n",
    "    'client_secret': client_secret,\n",
    "    'grant_type': 'client_credentials' # Specifies the OAuth 2.0 grant type\n",
    "})\n",
    "\n",
    "if auth_response.status_code == 200:\n",
    "    access_token = auth_response.json().get('access_token') # Extracts the access token from the successful response\n",
    "else:\n",
    "    # If authentication fails, an exception is raised with details for debugging.\n",
    "    raise Exception(f\"Failed to obtain access token: {auth_response.status_code} - {auth_response.text}\")\n",
    "\n",
    "# Headers to be used for subsequent API calls to fetch ICD data\n",
    "headers = {\n",
    "    'Authorization': f'Bearer {access_token}', # Standard header for OAuth 2.0 bearer tokens\n",
    "    'API-Version': 'v2',                      # Specifies the desired API version\n",
    "    'Accept-Language': 'en',                  # Requests data in English\n",
    "}"
   ]
  },
  {
   "cell_type": "code",
   "execution_count": 0,
   "metadata": {
    "application/vnd.databricks.v1+cell": {
     "cellMetadata": {
      "byteLimit": 2048000,
      "rowLimit": 10000
     },
     "inputWidgets": {},
     "nuid": "3880c0e0-2549-44a0-a044-20b60feba582",
     "showTitle": false,
     "tableResultSettingsMap": {},
     "title": ""
    }
   },
   "outputs": [],
   "source": [
    "\n",
    "# functions to nevigate & fetch ICD10 codes\n",
    "def fetch_icd_codes(url):\n",
    "    response = requests.get(url, headers=headers)\n",
    "    if response.status_code == 200:\n",
    "        return response.json()\n",
    "    else:\n",
    "        raise Exception(f\"Failed to fetch data: {response.status_code} - {response.text}\")\n",
    "\n",
    "def extract_codes(url):\n",
    "    data = fetch_icd_codes(url)\n",
    "    codes = []\n",
    "    if 'child' in data:\n",
    "        for child_url in data['child']:\n",
    "            codes.extend(extract_codes(child_url))\n",
    "    else:\n",
    "        if 'code' in data and 'title' in data:\n",
    "            # print(data['code'],data['title']['@value'])\n",
    "            codes.append({\n",
    "                'icd_code': data['code'],\n",
    "                'icd_code_type': 'ICD-10',\n",
    "                'code_description': data['title']['@value'],\n",
    "                'inserted_date': current_date,\n",
    "                'updated_date': current_date,\n",
    "                'is_current_flag': True\n",
    "            })\n",
    "    return codes\n",
    "\n"
   ]
  },
  {
   "cell_type": "code",
   "execution_count": 0,
   "metadata": {
    "application/vnd.databricks.v1+cell": {
     "cellMetadata": {
      "byteLimit": 2048000,
      "rowLimit": 10000
     },
     "inputWidgets": {},
     "nuid": "016267c1-c0ca-48fb-b711-c872d39b5be3",
     "showTitle": false,
     "tableResultSettingsMap": {},
     "title": ""
    }
   },
   "outputs": [],
   "source": [
    "# Defines the starting URL for the ICD-10 (2019 release) A00-A09 chapter.\n",
    "# The recursive 'extract_codes' function will traverse this hierarchy.\n",
    "root_url = 'https://id.who.int/icd/release/10/2019/A00-A09'\n",
    "icd_codes = extract_codes(root_url) # Initiates the data extraction\n",
    "\n",
    "# Defines the schema for the Spark DataFrame explicitly. This is good practice\n",
    "# for ensuring data types and column names are correct and consistent.\n",
    "schema = StructType([\n",
    "    StructField(\"icd_code\", StringType(), True),         # ICD Code (e.g., \"A00.0\")\n",
    "    StructField(\"icd_code_type\", StringType(), True),    # Type of ICD (e.g., \"ICD-10\")\n",
    "    StructField(\"code_description\", StringType(), True), # Description of the code\n",
    "    StructField(\"inserted_date\", DateType(), True),      # Date when the record was inserted\n",
    "    StructField(\"updated_date\", DateType(), True),      # Date when the record was last updated\n",
    "    StructField(\"is_current_flag\", BooleanType(), True)  # Flag indicating if the record is current\n",
    "])\n",
    "\n",
    "print(icd_codes) # Prints the raw list of dictionaries collected from the API (useful for debugging)\n",
    "\n",
    "# Creates a Spark DataFrame from the 'icd_codes' list, applying the predefined schema.\n",
    "df = spark.createDataFrame(icd_codes, schema=schema)\n"
   ]
  },
  {
   "cell_type": "code",
   "execution_count": 0,
   "metadata": {
    "application/vnd.databricks.v1+cell": {
     "cellMetadata": {
      "byteLimit": 2048000,
      "rowLimit": 10000
     },
     "inputWidgets": {},
     "nuid": "88b2b406-8ee3-4f6c-9aba-801b6d76d250",
     "showTitle": false,
     "tableResultSettingsMap": {},
     "title": ""
    }
   },
   "outputs": [],
   "source": [
    "# we will store the data in icd_codes folder in bronze container\n",
    "file_path = \"abfss://bronze@emrgen2.dfs.core.windows.net/icd_codes\"\n",
    "\n",
    "# append new data to existing file\n",
    "df.write.format(\"parquet\").mode(\"append\").save(file_path)"
   ]
  }
 ],
 "metadata": {
  "application/vnd.databricks.v1+notebook": {
   "computePreferences": null,
   "dashboards": [],
   "environmentMetadata": {
    "base_environment": "",
    "environment_version": "2"
   },
   "inputWidgetPreferences": null,
   "language": "python",
   "notebookMetadata": {
    "pythonIndentUnit": 4
   },
   "notebookName": "webservice_icd10_pull",
   "widgets": {}
  },
  "language_info": {
   "name": "python"
  }
 },
 "nbformat": 4,
 "nbformat_minor": 0
}
