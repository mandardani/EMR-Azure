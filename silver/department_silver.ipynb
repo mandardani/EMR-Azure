{
 "cells": [
  {
   "cell_type": "code",
   "execution_count": 0,
   "metadata": {
    "application/vnd.databricks.v1+cell": {
     "cellMetadata": {
      "byteLimit": 2048000,
      "rowLimit": 10000
     },
     "inputWidgets": {},
     "nuid": "f8a70110-c30e-4218-8dc9-1ccf32b6a51a",
     "showTitle": false,
     "tableResultSettingsMap": {},
     "title": ""
    }
   },
   "outputs": [],
   "source": [
    "from pyspark.sql import SparkSession, functions as f\n",
    "\n",
    "file_path_hospital1 = \"abfss://bronze@emrgen2.dfs.core.windows.net/Hosptial1/departments\"\n",
    "df_hospital1 = spark.read.parquet(file_path_hospital1)\n",
    "file_path_hospital10 = \"abfss://bronze@emrgen2.dfs.core.windows.net/hospital10/departments\"\n",
    "df_hospital10 = spark.read.parquet(file_path_hospital10)\n",
    "\n",
    "df_merged = df_hospital10.union(df_hospital1)\n",
    "df_merged = df_merged.withColumn(\"SRC_Dept_id\", f.col(\"deptid\")) \\\n",
    "                     .withColumn(\"Dept_id\", f.concat(f.col(\"deptid\"),f.lit('-'), f.col(\"datasource\"))) \\\n",
    "                     .drop(\"deptid\")\n",
    "\n",
    "\n",
    "df_merged.createOrReplaceTempView(\"departments\")\n"
   ]
  },
  {
   "cell_type": "code",
   "execution_count": 0,
   "metadata": {
    "application/vnd.databricks.v1+cell": {
     "cellMetadata": {
      "byteLimit": 2048000,
      "implicitDf": true,
      "rowLimit": 10000
     },
     "inputWidgets": {},
     "nuid": "715898ff-4ac2-43a8-a4c8-2a9a1b3335a6",
     "showTitle": false,
     "tableResultSettingsMap": {},
     "title": ""
    }
   },
   "outputs": [],
   "source": [
    "%sql\n",
    "select * from departments\n",
    "limit 5"
   ]
  },
  {
   "cell_type": "code",
   "execution_count": 0,
   "metadata": {
    "application/vnd.databricks.v1+cell": {
     "cellMetadata": {
      "byteLimit": 2048000,
      "implicitDf": true,
      "rowLimit": 10000
     },
     "inputWidgets": {},
     "nuid": "7f336531-3e82-48f5-8ddd-eb81b204c347",
     "showTitle": false,
     "tableResultSettingsMap": {},
     "title": ""
    }
   },
   "outputs": [],
   "source": [
    "%sql\n",
    "drop table silver.departments;\n",
    "CREATE TABLE IF NOT EXISTS silver.departments (\n",
    "Dept_Id string,\n",
    "SRC_Dept_Id string,\n",
    "Name string,\n",
    "datasource string,\n",
    "is_quarantined boolean\n",
    ")\n",
    "USING DELTA\n",
    "LOCATION \"abfss://silver@emrgen2.dfs.core.windows.net/departments\";\n",
    "\n"
   ]
  },
  {
   "cell_type": "code",
   "execution_count": 0,
   "metadata": {
    "application/vnd.databricks.v1+cell": {
     "cellMetadata": {
      "byteLimit": 2048000,
      "implicitDf": true,
      "rowLimit": 10000
     },
     "inputWidgets": {},
     "nuid": "b2360ba5-3c12-4ccb-bf0b-64afd4cf1ee3",
     "showTitle": false,
     "tableResultSettingsMap": {},
     "title": ""
    }
   },
   "outputs": [],
   "source": [
    "%sql\n",
    "truncate table silver.departments;\n"
   ]
  },
  {
   "cell_type": "code",
   "execution_count": 0,
   "metadata": {
    "application/vnd.databricks.v1+cell": {
     "cellMetadata": {
      "byteLimit": 2048000,
      "implicitDf": true,
      "rowLimit": 10000
     },
     "inputWidgets": {},
     "nuid": "b11cd35c-086f-45c4-8ad0-f330a8763c4e",
     "showTitle": false,
     "tableResultSettingsMap": {},
     "title": ""
    }
   },
   "outputs": [],
   "source": [
    "%sql\n",
    "insert into silver.departments\n",
    "SELECT \n",
    "Dept_Id,\n",
    "SRC_Dept_Id,\n",
    "Name,\n",
    "Datasource,\n",
    "    CASE \n",
    "        WHEN SRC_Dept_Id IS NULL OR Name IS NULL THEN TRUE\n",
    "        ELSE FALSE\n",
    "    END AS is_quarantined\n",
    "FROM departments"
   ]
  },
  {
   "cell_type": "code",
   "execution_count": 0,
   "metadata": {
    "application/vnd.databricks.v1+cell": {
     "cellMetadata": {
      "byteLimit": 2048000,
      "implicitDf": true,
      "rowLimit": 10000
     },
     "inputWidgets": {},
     "nuid": "a7ed32a8-3354-4bf5-8115-2ac99ad0b0e9",
     "showTitle": false,
     "tableResultSettingsMap": {},
     "title": ""
    }
   },
   "outputs": [],
   "source": [
    "%sql\n",
    "select * from silver.departments\n"
   ]
  },
  {
   "cell_type": "code",
   "execution_count": 0,
   "metadata": {
    "application/vnd.databricks.v1+cell": {
     "cellMetadata": {
      "byteLimit": 2048000,
      "rowLimit": 10000
     },
     "inputWidgets": {},
     "nuid": "c8f36535-acf8-4c38-8b0b-645c9c1c0c41",
     "showTitle": false,
     "tableResultSettingsMap": {},
     "title": ""
    }
   },
   "outputs": [],
   "source": []
  }
 ],
 "metadata": {
  "application/vnd.databricks.v1+notebook": {
   "computePreferences": null,
   "dashboards": [],
   "environmentMetadata": {
    "base_environment": "",
    "environment_version": "2"
   },
   "inputWidgetPreferences": null,
   "language": "python",
   "notebookMetadata": {
    "mostRecentlyExecutedCommandWithImplicitDF": {
     "commandId": 8438976741869478,
     "dataframes": [
      "_sqldf"
     ]
    },
    "pythonIndentUnit": 4
   },
   "notebookName": "department_silver",
   "widgets": {}
  },
  "language_info": {
   "name": "python"
  }
 },
 "nbformat": 4,
 "nbformat_minor": 0
}
