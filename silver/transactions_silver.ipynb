{
 "cells": [
  {
   "cell_type": "code",
   "execution_count": 0,
   "metadata": {
    "application/vnd.databricks.v1+cell": {
     "cellMetadata": {
      "byteLimit": 2048000,
      "rowLimit": 10000
     },
     "inputWidgets": {},
     "nuid": "c085902c-68b9-43a2-80c1-d49111e436a5",
     "showTitle": false,
     "tableResultSettingsMap": {},
     "title": ""
    }
   },
   "outputs": [],
   "source": [
    "from pyspark.sql import SparkSession, functions as f\n",
    "\n",
    "#Reading Hospital A departments data \n",
    "df_hospital1=spark.read.parquet(\"abfss://bronze@emrgen2.dfs.core.windows.net/Hosptial1/transactions\")\n",
    "\n",
    "#Reading Hospital B departments data \n",
    "df_hospital10=spark.read.parquet(\"abfss://bronze@emrgen2.dfs.core.windows.net/hospital10/transactions\")\n",
    "\n",
    "#union two departments dataframes\n",
    "df_merged = df_hospital1.unionByName(df_hospital10)\n",
    "#display(df_merged)\n",
    "\n",
    "df_merged.createOrReplaceTempView(\"transactions\")"
   ]
  },
  {
   "cell_type": "code",
   "execution_count": 0,
   "metadata": {
    "application/vnd.databricks.v1+cell": {
     "cellMetadata": {
      "byteLimit": 2048000,
      "implicitDf": true,
      "rowLimit": 10000
     },
     "inputWidgets": {},
     "nuid": "89be60af-d738-4c71-b8d1-3b68f63359da",
     "showTitle": false,
     "tableResultSettingsMap": {},
     "title": ""
    }
   },
   "outputs": [],
   "source": [
    "%sql\n",
    "CREATE OR REPLACE TEMP VIEW quality_checks AS\n",
    "SELECT \n",
    "concat(TransactionID,'-',datasource) as TransactionID,\n",
    "TransactionID as SRC_TransactionID,\n",
    "EncounterID,\n",
    "PatientID,\n",
    "ProviderID,\n",
    "DeptID,\n",
    "VisitDate,\n",
    "ServiceDate,\n",
    "PaidDate,\n",
    "VisitType,\n",
    "Amount,\n",
    "AmountType,\n",
    "PaidAmount,\n",
    "ClaimID,\n",
    "PayorID,\n",
    "ProcedureCode,\n",
    "ICDCode,\n",
    "LineOfBusiness,\n",
    "MedicaidID,\n",
    "MedicareID,\n",
    "InsertDate as SRC_InsertDate,\n",
    "ModifiedDate as SRC_ModifiedDate,\n",
    "datasource,\n",
    "    CASE \n",
    "        WHEN EncounterID IS NULL OR PatientID IS NULL OR TransactionID IS NULL OR VisitDate IS NULL THEN TRUE\n",
    "        ELSE FALSE\n",
    "    END AS is_quarantined\n",
    "FROM transactions\n"
   ]
  },
  {
   "cell_type": "code",
   "execution_count": 0,
   "metadata": {
    "application/vnd.databricks.v1+cell": {
     "cellMetadata": {
      "byteLimit": 2048000,
      "implicitDf": true,
      "rowLimit": 10000
     },
     "inputWidgets": {},
     "nuid": "e562dcb4-88ba-4448-aecf-f7122867d1d6",
     "showTitle": false,
     "tableResultSettingsMap": {},
     "title": ""
    }
   },
   "outputs": [],
   "source": [
    "%sql\n",
    "CREATE TABLE IF NOT EXISTS silver.transactions (\n",
    "  TransactionID string,\n",
    "  SRC_TransactionID string,\n",
    "  EncounterID string,\n",
    "  PatientID string,\n",
    "  ProviderID string,\n",
    "  DeptID string,\n",
    "  VisitDate date,\n",
    "  ServiceDate date,\n",
    "  PaidDate date,\n",
    "  VisitType string,\n",
    "  Amount double,\n",
    "  AmountType string,\n",
    "  PaidAmount double,\n",
    "  ClaimID string,\n",
    "  PayorID string,\n",
    "  ProcedureCode integer,\n",
    "  ICDCode string,\n",
    "  LineOfBusiness string,\n",
    "  MedicaidID string,\n",
    "  MedicareID string,\n",
    "  SRC_InsertDate date,\n",
    "  SRC_ModifiedDate date,\n",
    "  datasource string,\n",
    "  is_quarantined boolean,\n",
    "  audit_insertdate timestamp,\n",
    "  audit_modifieddate timestamp,\n",
    "  is_current boolean\n",
    ")\n",
    "USING DELTA;\n"
   ]
  },
  {
   "cell_type": "code",
   "execution_count": 0,
   "metadata": {
    "application/vnd.databricks.v1+cell": {
     "cellMetadata": {
      "byteLimit": 2048000,
      "implicitDf": true,
      "rowLimit": 10000
     },
     "inputWidgets": {},
     "nuid": "2e07a648-c4da-44c6-b98b-6fa9d03d394b",
     "showTitle": false,
     "tableResultSettingsMap": {},
     "title": ""
    }
   },
   "outputs": [],
   "source": [
    "%sql\n",
    "-- Update old record to implement SCD Type 2\n",
    "MERGE INTO silver.transactions AS target USING quality_checks AS source ON target.TransactionID = source.TransactionID\n",
    "AND target.is_current = true\n",
    "WHEN MATCHED\n",
    "AND (\n",
    "  target.SRC_TransactionID != source.SRC_TransactionID\n",
    "  OR target.EncounterID != source.EncounterID\n",
    "  OR target.PatientID != source.PatientID\n",
    "  OR target.ProviderID != source.ProviderID\n",
    "  OR target.DeptID != source.DeptID\n",
    "  OR target.VisitDate != source.VisitDate\n",
    "  OR target.ServiceDate != source.ServiceDate\n",
    "  OR target.PaidDate != source.PaidDate\n",
    "  OR target.VisitType != source.VisitType\n",
    "  OR target.Amount != source.Amount\n",
    "  OR target.AmountType != source.AmountType\n",
    "  OR target.PaidAmount != source.PaidAmount\n",
    "  OR target.ClaimID != source.ClaimID\n",
    "  OR target.PayorID != source.PayorID\n",
    "  OR target.ProcedureCode != source.ProcedureCode\n",
    "  OR target.ICDCode != source.ICDCode\n",
    "  OR target.LineOfBusiness != source.LineOfBusiness\n",
    "  OR target.MedicaidID != source.MedicaidID\n",
    "  OR target.MedicareID != source.MedicareID\n",
    "  OR target.SRC_InsertDate != source.SRC_InsertDate\n",
    "  OR target.SRC_ModifiedDate != source.SRC_ModifiedDate\n",
    "  OR target.datasource != source.datasource\n",
    "  OR target.is_quarantined != source.is_quarantined\n",
    ") THEN\n",
    "UPDATE\n",
    "SET\n",
    "  target.is_current = false,\n",
    "  target.audit_modifieddate = current_timestamp()\n",
    "\n",
    "\n"
   ]
  },
  {
   "cell_type": "code",
   "execution_count": 0,
   "metadata": {
    "application/vnd.databricks.v1+cell": {
     "cellMetadata": {
      "byteLimit": 2048000,
      "implicitDf": true,
      "rowLimit": 10000
     },
     "inputWidgets": {},
     "nuid": "a322bf10-e84f-4005-87a8-fce341da57a6",
     "showTitle": false,
     "tableResultSettingsMap": {},
     "title": ""
    }
   },
   "outputs": [],
   "source": [
    "%sql\n",
    "-- Insert new record to implement SCD Type 2\n",
    "MERGE INTO silver.transactions AS target USING quality_checks AS source ON target.TransactionID = source.TransactionID\n",
    "AND target.is_current = true\n",
    "WHEN NOT MATCHED THEN\n",
    "INSERT\n",
    "  (\n",
    "    TransactionID,\n",
    "    SRC_TransactionID,\n",
    "    EncounterID,\n",
    "    PatientID,\n",
    "    ProviderID,\n",
    "    DeptID,\n",
    "    VisitDate,\n",
    "    ServiceDate,\n",
    "    PaidDate,\n",
    "    VisitType,\n",
    "    Amount,\n",
    "    AmountType,\n",
    "    PaidAmount,\n",
    "    ClaimID,\n",
    "    PayorID,\n",
    "    ProcedureCode,\n",
    "    ICDCode,\n",
    "    LineOfBusiness,\n",
    "    MedicaidID,\n",
    "    MedicareID,\n",
    "    SRC_InsertDate,\n",
    "    SRC_ModifiedDate,\n",
    "    datasource,\n",
    "    is_quarantined,\n",
    "    audit_insertdate,\n",
    "    audit_modifieddate,\n",
    "    is_current\n",
    "  )\n",
    "VALUES\n",
    "  (\n",
    "    source.TransactionID,\n",
    "    source.SRC_TransactionID,\n",
    "    source.EncounterID,\n",
    "    source.PatientID,\n",
    "    source.ProviderID,\n",
    "    source.DeptID,\n",
    "    source.VisitDate,\n",
    "    source.ServiceDate,\n",
    "    source.PaidDate,\n",
    "    source.VisitType,\n",
    "    source.Amount,\n",
    "    source.AmountType,\n",
    "    source.PaidAmount,\n",
    "    source.ClaimID,\n",
    "    source.PayorID,\n",
    "    source.ProcedureCode,\n",
    "    source.ICDCode,\n",
    "    source.LineOfBusiness,\n",
    "    source.MedicaidID,\n",
    "    source.MedicareID,\n",
    "    source.SRC_InsertDate,\n",
    "    source.SRC_ModifiedDate,\n",
    "    source.datasource,\n",
    "    source.is_quarantined,\n",
    "    current_timestamp(),\n",
    "    current_timestamp(),\n",
    "    true);\n"
   ]
  }
 ],
 "metadata": {
  "application/vnd.databricks.v1+notebook": {
   "computePreferences": null,
   "dashboards": [],
   "environmentMetadata": {
    "base_environment": "",
    "environment_version": "2"
   },
   "inputWidgetPreferences": null,
   "language": "python",
   "notebookMetadata": {
    "mostRecentlyExecutedCommandWithImplicitDF": {
     "commandId": 4876681764635192,
     "dataframes": [
      "_sqldf"
     ]
    },
    "pythonIndentUnit": 4
   },
   "notebookName": "transactions_silver",
   "widgets": {}
  },
  "language_info": {
   "name": "python"
  }
 },
 "nbformat": 4,
 "nbformat_minor": 0
}
