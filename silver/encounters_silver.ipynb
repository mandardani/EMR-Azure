{
 "cells": [
  {
   "cell_type": "code",
   "execution_count": 0,
   "metadata": {
    "application/vnd.databricks.v1+cell": {
     "cellMetadata": {
      "byteLimit": 2048000,
      "implicitDf": true,
      "rowLimit": 10000
     },
     "inputWidgets": {},
     "nuid": "55a79335-3b2f-4924-b5e4-fcf169734c0b",
     "showTitle": false,
     "tableResultSettingsMap": {},
     "title": ""
    }
   },
   "outputs": [],
   "source": [
    "%sql\n",
    "-- Create temporary views for the parquet files\n",
    "CREATE OR REPLACE TEMP VIEW hospital1_encounters\n",
    "USING parquet\n",
    "OPTIONS (\n",
    "  path \"abfss://bronze@emrgen2.dfs.core.windows.net/Hosptial1/encounters\"\n",
    "  \n",
    ");\n",
    "\n",
    "CREATE OR REPLACE TEMP VIEW hospital10_encounters\n",
    "USING parquet\n",
    "OPTIONS (\n",
    "  path \"abfss://bronze@emrgen2.dfs.core.windows.net/hospital10/encounters\"\n",
    ");\n",
    "\n",
    "-- Union the two views\n",
    "CREATE OR REPLACE TEMP VIEW encounters AS\n",
    "SELECT * FROM hospital1_encounters\n",
    "UNION ALL\n",
    "SELECT * FROM hospital10_encounters;\n",
    "\n",
    "-- Display the merged data\n",
    "SELECT * FROM encounters;\n",
    "\n"
   ]
  },
  {
   "cell_type": "code",
   "execution_count": 0,
   "metadata": {
    "application/vnd.databricks.v1+cell": {
     "cellMetadata": {
      "byteLimit": 2048000,
      "implicitDf": true,
      "rowLimit": 10000
     },
     "inputWidgets": {},
     "nuid": "2e6c5002-1940-4dc4-9ed7-5c7b5ddbcba0",
     "showTitle": false,
     "tableResultSettingsMap": {},
     "title": ""
    }
   },
   "outputs": [],
   "source": [
    "\n",
    "%sql\n",
    "CREATE OR REPLACE TEMP VIEW quality_checks AS\n",
    "SELECT \n",
    "concat(EncounterID,'-',datasource) as EncounterID,\n",
    "EncounterID SRC_EncounterID,\n",
    "PatientID,\n",
    "EncounterDate,\n",
    "EncounterType,\n",
    "ProviderID,\n",
    "DepartmentID,\n",
    "ProcedureCode,\n",
    "InsertedDate as SRC_InsertedDate,\n",
    "ModifiedDate as SRC_ModifiedDate,\n",
    "datasource,\n",
    "    CASE \n",
    "        WHEN EncounterID IS NULL OR PatientID IS NULL THEN TRUE\n",
    "        ELSE FALSE\n",
    "    END AS is_quarantined\n",
    "FROM encounters\n",
    "\n",
    "\n"
   ]
  },
  {
   "cell_type": "code",
   "execution_count": 0,
   "metadata": {
    "application/vnd.databricks.v1+cell": {
     "cellMetadata": {
      "byteLimit": 2048000,
      "implicitDf": true,
      "rowLimit": 10000
     },
     "inputWidgets": {},
     "nuid": "4a456d05-27fa-4392-9fef-65a6e72b0049",
     "showTitle": false,
     "tableResultSettingsMap": {},
     "title": ""
    }
   },
   "outputs": [],
   "source": [
    "%sql\n",
    "DROP TABLE IF EXISTS silver.encounters;\n",
    "CREATE TABLE IF NOT EXISTS silver.encounters (\n",
    "EncounterID string,\n",
    "SRC_EncounterID string,\n",
    "PatientID string,\n",
    "EncounterDate date,\n",
    "EncounterType string,\n",
    "ProviderID string,\n",
    "DepartmentID string,\n",
    "ProcedureCode integer,\n",
    "SRC_InsertedDate date,\n",
    "SRC_ModifiedDate date,\n",
    "datasource string,\n",
    "is_quarantined boolean,\n",
    "audit_insertdate timestamp,\n",
    "audit_modifieddate timestamp,\n",
    "is_current boolean\n",
    ")\n",
    "USING DELTA\n",
    "LOCATION \"abfss://silver@emrgen2.dfs.core.windows.net/encounters\";\n"
   ]
  },
  {
   "cell_type": "code",
   "execution_count": 0,
   "metadata": {
    "application/vnd.databricks.v1+cell": {
     "cellMetadata": {
      "byteLimit": 2048000,
      "implicitDf": true,
      "rowLimit": 10000
     },
     "inputWidgets": {},
     "nuid": "10bce0aa-eeed-4263-b2e9-c2a69a65d3f7",
     "showTitle": false,
     "tableResultSettingsMap": {},
     "title": ""
    }
   },
   "outputs": [],
   "source": [
    "\n",
    "%sql\n",
    "-- Update old record to implement SCD Type 2\n",
    "MERGE INTO silver.encounters AS target\n",
    "USING quality_checks AS source\n",
    "ON target.EncounterID = source.EncounterID AND target.is_current = true\n",
    "WHEN MATCHED AND (\n",
    "    target.SRC_EncounterID != source.SRC_EncounterID OR\n",
    "    target.PatientID != source.PatientID OR\n",
    "    target.EncounterDate != source.EncounterDate OR\n",
    "    target.EncounterType != source.EncounterType OR\n",
    "    target.ProviderID != source.ProviderID OR\n",
    "    target.DepartmentID != source.DepartmentID OR\n",
    "    target.ProcedureCode != source.ProcedureCode OR\n",
    "    target.SRC_InsertedDate != source.SRC_InsertedDate OR\n",
    "    target.SRC_ModifiedDate != source.SRC_ModifiedDate OR\n",
    "    target.datasource != source.datasource OR\n",
    "    target.is_quarantined != source.is_quarantined\n",
    ") THEN\n",
    "  UPDATE SET\n",
    "    target.is_current = false,\n",
    "    target.audit_modifieddate = current_timestamp()\n"
   ]
  },
  {
   "cell_type": "code",
   "execution_count": 0,
   "metadata": {
    "application/vnd.databricks.v1+cell": {
     "cellMetadata": {
      "byteLimit": 2048000,
      "implicitDf": true,
      "rowLimit": 10000
     },
     "inputWidgets": {},
     "nuid": "0af8d5ba-11a0-4649-9984-59aa1eec5073",
     "showTitle": false,
     "tableResultSettingsMap": {},
     "title": ""
    }
   },
   "outputs": [],
   "source": [
    "%sql\n",
    "-- Insert new record to implement SCD Type 2\n",
    "MERGE INTO silver.encounters AS target USING quality_checks AS source ON target.EncounterID = source.EncounterID\n",
    "AND target.is_current = true\n",
    "WHEN NOT MATCHED THEN\n",
    "INSERT\n",
    "  (\n",
    "    EncounterID,\n",
    "    SRC_EncounterID,\n",
    "    PatientID,\n",
    "    EncounterDate,\n",
    "    EncounterType,\n",
    "    ProviderID,\n",
    "    DepartmentID,\n",
    "    ProcedureCode,\n",
    "    SRC_InsertedDate,\n",
    "    SRC_ModifiedDate,\n",
    "    datasource,\n",
    "    is_quarantined,\n",
    "    audit_insertdate,\n",
    "    audit_modifieddate,\n",
    "    is_current\n",
    "  )\n",
    "VALUES\n",
    "  (\n",
    "    source.EncounterID,\n",
    "    source.SRC_EncounterID,\n",
    "    source.PatientID,\n",
    "    source.EncounterDate,\n",
    "    source.EncounterType,\n",
    "    source.ProviderID,\n",
    "    source.DepartmentID,\n",
    "    source.ProcedureCode,\n",
    "    source.SRC_InsertedDate,\n",
    "    source.SRC_ModifiedDate,\n",
    "    source.datasource,\n",
    "    source.is_quarantined,\n",
    "    current_timestamp(),\n",
    "    current_timestamp(),\n",
    "    true\n",
    "  );\n",
    "\n"
   ]
  },
  {
   "cell_type": "code",
   "execution_count": 0,
   "metadata": {
    "application/vnd.databricks.v1+cell": {
     "cellMetadata": {
      "byteLimit": 2048000,
      "implicitDf": true,
      "rowLimit": 10000
     },
     "inputWidgets": {},
     "nuid": "d341bd17-40fe-42ff-98ca-b263cac9b60d",
     "showTitle": false,
     "tableResultSettingsMap": {},
     "title": ""
    }
   },
   "outputs": [],
   "source": [
    "%sql\n",
    "select SRC_EncounterID,datasource,count(patientid) from  silver.encounters\n",
    "group by all\n",
    "order by 3 desc\n"
   ]
  }
 ],
 "metadata": {
  "application/vnd.databricks.v1+notebook": {
   "computePreferences": null,
   "dashboards": [],
   "environmentMetadata": {
    "base_environment": "",
    "environment_version": "2"
   },
   "inputWidgetPreferences": null,
   "language": "python",
   "notebookMetadata": {
    "mostRecentlyExecutedCommandWithImplicitDF": {
     "commandId": 4876681764635200,
     "dataframes": [
      "_sqldf"
     ]
    },
    "pythonIndentUnit": 4
   },
   "notebookName": "encounters_silver",
   "widgets": {}
  },
  "language_info": {
   "name": "python"
  }
 },
 "nbformat": 4,
 "nbformat_minor": 0
}
