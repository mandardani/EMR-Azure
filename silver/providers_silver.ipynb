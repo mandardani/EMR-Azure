{
 "cells": [
  {
   "cell_type": "code",
   "execution_count": 0,
   "metadata": {
    "application/vnd.databricks.v1+cell": {
     "cellMetadata": {
      "byteLimit": 2048000,
      "rowLimit": 10000
     },
     "inputWidgets": {},
     "nuid": "8454c1a5-390a-4f34-bd10-aba1d63813f3",
     "showTitle": false,
     "tableResultSettingsMap": {},
     "title": ""
    }
   },
   "outputs": [],
   "source": [
    "# Databricks notebook source\n",
    "from pyspark.sql import SparkSession, functions as f\n",
    "\n",
    "file_path_hospital1 = \"abfss://bronze@emrgen2.dfs.core.windows.net/Hosptial1/providers\"\n",
    "df_hospital1 = spark.read.parquet(file_path_hospital1)\n",
    "file_path_hospital10 = \"abfss://bronze@emrgen2.dfs.core.windows.net/hospital10/providers\"\n",
    "df_hospital10 = spark.read.parquet(file_path_hospital10)\n",
    "\n",
    "df_merged = df_hospital10.union(df_hospital1)\n",
    "display(df_merged)\n",
    "\n",
    "df_merged.createOrReplaceTempView(\"providers\")"
   ]
  },
  {
   "cell_type": "code",
   "execution_count": 0,
   "metadata": {
    "application/vnd.databricks.v1+cell": {
     "cellMetadata": {
      "byteLimit": 2048000,
      "implicitDf": true,
      "rowLimit": 10000
     },
     "inputWidgets": {},
     "nuid": "f044b77c-6972-4907-a502-e671245bd711",
     "showTitle": false,
     "tableResultSettingsMap": {},
     "title": ""
    }
   },
   "outputs": [],
   "source": [
    "\n",
    "%sql\n",
    "CREATE TABLE IF NOT EXISTS silver.providers (\n",
    "ProviderID string,\n",
    "FirstName string,\n",
    "LastName string,\n",
    "Specialization string,\n",
    "DeptID string,\n",
    "NPI long,\n",
    "datasource string,\n",
    "is_quarantined boolean\n",
    ")\n",
    "USING DELTA;"
   ]
  },
  {
   "cell_type": "code",
   "execution_count": 0,
   "metadata": {
    "application/vnd.databricks.v1+cell": {
     "cellMetadata": {
      "byteLimit": 2048000,
      "implicitDf": true,
      "rowLimit": 10000
     },
     "inputWidgets": {},
     "nuid": "4f1460fa-97ad-40a3-9275-f578fd1d2c01",
     "showTitle": false,
     "tableResultSettingsMap": {},
     "title": ""
    }
   },
   "outputs": [],
   "source": [
    "\n",
    "%sql\n",
    "truncate table silver.providers"
   ]
  },
  {
   "cell_type": "code",
   "execution_count": 0,
   "metadata": {
    "application/vnd.databricks.v1+cell": {
     "cellMetadata": {
      "byteLimit": 2048000,
      "implicitDf": true,
      "rowLimit": 10000
     },
     "inputWidgets": {},
     "nuid": "61ba6d1d-b602-4e23-b830-84b4c48268ee",
     "showTitle": false,
     "tableResultSettingsMap": {},
     "title": ""
    }
   },
   "outputs": [],
   "source": [
    "%sql \n",
    "insert into silver.providers\n",
    "select \n",
    "distinct\n",
    "ProviderID,\n",
    "FirstName,\n",
    "LastName,\n",
    "Specialization,\n",
    "DeptID,\n",
    " NPI,\n",
    "datasource,\n",
    "    CASE \n",
    "        WHEN ProviderID IS NULL OR DeptID IS NULL THEN TRUE\n",
    "        ELSE FALSE\n",
    "    END AS is_quarantined\n",
    "from providers\n"
   ]
  },
  {
   "cell_type": "code",
   "execution_count": 0,
   "metadata": {
    "application/vnd.databricks.v1+cell": {
     "cellMetadata": {
      "byteLimit": 2048000,
      "implicitDf": true,
      "rowLimit": 10000
     },
     "inputWidgets": {},
     "nuid": "fbfc9d76-531b-411e-bf0e-eb4ad9af98e0",
     "showTitle": false,
     "tableResultSettingsMap": {},
     "title": ""
    }
   },
   "outputs": [],
   "source": [
    "%sql\n",
    "select * from silver.providers"
   ]
  }
 ],
 "metadata": {
  "application/vnd.databricks.v1+notebook": {
   "computePreferences": null,
   "dashboards": [],
   "environmentMetadata": {
    "base_environment": "",
    "environment_version": "2"
   },
   "inputWidgetPreferences": null,
   "language": "python",
   "notebookMetadata": {
    "mostRecentlyExecutedCommandWithImplicitDF": {
     "commandId": 8438976741869485,
     "dataframes": [
      "_sqldf"
     ]
    },
    "pythonIndentUnit": 4
   },
   "notebookName": "providers_silver",
   "widgets": {}
  },
  "language_info": {
   "name": "python"
  }
 },
 "nbformat": 4,
 "nbformat_minor": 0
}
