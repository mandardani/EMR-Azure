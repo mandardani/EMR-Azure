{
 "cells": [
  {
   "cell_type": "code",
   "execution_count": 0,
   "metadata": {
    "application/vnd.databricks.v1+cell": {
     "cellMetadata": {
      "byteLimit": 2048000,
      "rowLimit": 10000
     },
     "inputWidgets": {},
     "nuid": "8732a6d5-1a38-4449-a69e-f8da3626037f",
     "showTitle": false,
     "tableResultSettingsMap": {},
     "title": ""
    }
   },
   "outputs": [],
   "source": [
    "# Databricks notebook source\n",
    "from pyspark.sql import SparkSession, functions as f\n",
    "\n",
    "file_path_hospital1 = \"abfss://bronze@emrgen2.dfs.core.windows.net/Hosptial1/patients\"\n",
    "df_hospital1 = spark.read.parquet(file_path_hospital1)\n",
    "file_path_hospital10 = \"abfss://bronze@emrgen2.dfs.core.windows.net/hospital10/patients\"\n",
    "df_hospital10 = spark.read.parquet(file_path_hospital10)\n",
    "\n",
    "df_hospital1.createOrReplaceTempView(\"patients_hospital1\")\n",
    "df_hospital10.createOrReplaceTempView(\"patients_hospital10\")\n",
    "\n"
   ]
  },
  {
   "cell_type": "code",
   "execution_count": 0,
   "metadata": {
    "application/vnd.databricks.v1+cell": {
     "cellMetadata": {
      "byteLimit": 2048000,
      "implicitDf": true,
      "rowLimit": 10000
     },
     "inputWidgets": {},
     "nuid": "24a56c57-3fd5-4413-a309-a945f981fade",
     "showTitle": false,
     "tableResultSettingsMap": {},
     "title": ""
    }
   },
   "outputs": [],
   "source": [
    "%sql\n",
    "CREATE OR REPLACE TEMP VIEW cdm_patients AS\n",
    "SELECT CONCAT(SRC_PatientID,'-', datasource) AS Patient_Key, *\n",
    "FROM (\n",
    "    SELECT \n",
    "    PatientID AS SRC_PatientID ,\n",
    "    FirstName,\n",
    "    LastName,\n",
    "    MiddleName,\n",
    "    SSN,\n",
    "    PhoneNumber,\n",
    "    Gender,\n",
    "    DOB,\n",
    "    Address,\n",
    "    ModifiedDate,\n",
    "    datasource\n",
    "    FROM patients_hospital1\n",
    "    UNION ALL\n",
    "    SELECT \n",
    "    ID AS SRC_PatientID,\n",
    "    F_Name AS FirstName,\n",
    "    L_Name AS LastName,\n",
    "    M_Name ASMiddleName,\n",
    "    SSN,\n",
    "    PhoneNumber,\n",
    "    Gender,\n",
    "    DOB,\n",
    "    Address,\n",
    "    Updated_Date AS ModifiedDate,\n",
    "    datasource\n",
    "     FROM patients_hospital10\n",
    ")\n"
   ]
  },
  {
   "cell_type": "code",
   "execution_count": 0,
   "metadata": {
    "application/vnd.databricks.v1+cell": {
     "cellMetadata": {
      "byteLimit": 2048000,
      "implicitDf": true,
      "rowLimit": 10000
     },
     "inputWidgets": {},
     "nuid": "6c6630f1-bb9f-461a-a03d-b00bf7fe07e0",
     "showTitle": false,
     "tableResultSettingsMap": {},
     "title": ""
    }
   },
   "outputs": [],
   "source": [
    "%sql\n",
    "select * from cdm_patients\n"
   ]
  },
  {
   "cell_type": "code",
   "execution_count": 0,
   "metadata": {
    "application/vnd.databricks.v1+cell": {
     "cellMetadata": {
      "byteLimit": 2048000,
      "implicitDf": true,
      "rowLimit": 10000
     },
     "inputWidgets": {},
     "nuid": "edc87b66-2990-4a5d-8d6e-e262dd9c3a0c",
     "showTitle": false,
     "tableResultSettingsMap": {},
     "title": ""
    }
   },
   "outputs": [],
   "source": [
    "%sql\n",
    "CREATE OR REPLACE TEMP VIEW quality_checks AS\n",
    "SELECT \n",
    "    Patient_Key,\n",
    "    SRC_PatientID,\n",
    "    FirstName,\n",
    "    LastName,\n",
    "    MiddleName,\n",
    "    SSN,\n",
    "    PhoneNumber,\n",
    "    Gender,\n",
    "    DOB,\n",
    "    Address,\n",
    "    ModifiedDate As SRC_ModifiedDate,\n",
    "    datasource,\n",
    "    CASE \n",
    "        WHEN SRC_PatientID IS NULL OR dob IS NULL OR firstname IS NULL or lower(firstname)='null' THEN TRUE\n",
    "        ELSE FALSE\n",
    "    END AS is_quarantined\n",
    "FROM cdm_patients\n"
   ]
  },
  {
   "cell_type": "code",
   "execution_count": 0,
   "metadata": {
    "application/vnd.databricks.v1+cell": {
     "cellMetadata": {
      "byteLimit": 2048000,
      "implicitDf": true,
      "rowLimit": 10000
     },
     "inputWidgets": {},
     "nuid": "db2b971b-6852-4d29-8a65-c69ec6c4968a",
     "showTitle": false,
     "tableResultSettingsMap": {},
     "title": ""
    }
   },
   "outputs": [],
   "source": [
    "%sql\n",
    "select * from quality_checks\n",
    "order by is_quarantined desc\n"
   ]
  },
  {
   "cell_type": "code",
   "execution_count": 0,
   "metadata": {
    "application/vnd.databricks.v1+cell": {
     "cellMetadata": {
      "byteLimit": 2048000,
      "implicitDf": true,
      "rowLimit": 10000
     },
     "inputWidgets": {},
     "nuid": "28e402b1-817a-451b-8189-f75659ed4d28",
     "showTitle": false,
     "tableResultSettingsMap": {},
     "title": ""
    }
   },
   "outputs": [],
   "source": [
    "%sql\n",
    "CREATE TABLE IF NOT EXISTS silver.patients (\n",
    "    Patient_Key STRING,\n",
    "    SRC_PatientID STRING,\n",
    "    FirstName STRING,\n",
    "    LastName STRING,\n",
    "    MiddleName STRING,\n",
    "    SSN STRING,\n",
    "    PhoneNumber STRING,\n",
    "    Gender STRING,\n",
    "    DOB DATE,\n",
    "    Address STRING,\n",
    "    SRC_ModifiedDate TIMESTAMP,\n",
    "    datasource STRING,\n",
    "    is_quarantined BOOLEAN,\n",
    "    inserted_date TIMESTAMP,\n",
    "    modified_date TIMESTAMP,\n",
    "    is_current BOOLEAN\n",
    ")\n",
    "USING DELTA;\n"
   ]
  },
  {
   "cell_type": "code",
   "execution_count": 0,
   "metadata": {
    "application/vnd.databricks.v1+cell": {
     "cellMetadata": {
      "byteLimit": 2048000,
      "implicitDf": true,
      "rowLimit": 10000
     },
     "inputWidgets": {},
     "nuid": "1c8b8434-91e0-4cb8-9a82-5c12691df100",
     "showTitle": false,
     "tableResultSettingsMap": {},
     "title": ""
    }
   },
   "outputs": [],
   "source": [
    "%sql\n",
    "-- Step 1: Mark existing records as historical (is_current = false) for patients that will\n",
    "MERGE INTO silver.patients AS target\n",
    "USING quality_checks AS source\n",
    "ON target.Patient_Key = source.Patient_Key\n",
    "AND target.is_current = true \n",
    "WHEN MATCHED\n",
    "AND (\n",
    "    target.SRC_PatientID <> source.SRC_PatientID OR\n",
    "    target.FirstName <> source.FirstName OR\n",
    "    target.LastName <> source.LastName OR\n",
    "    target.MiddleName <> source.MiddleName OR\n",
    "    target.SSN <> source.SSN OR\n",
    "    target.PhoneNumber <> source.PhoneNumber OR\n",
    "    target.Gender <> source.Gender OR\n",
    "    target.DOB <> source.DOB OR\n",
    "    target.Address <> source.Address OR\n",
    "    target.SRC_ModifiedDate <> source.SRC_ModifiedDate OR\n",
    "    target.datasource <> source.datasource OR\n",
    "    target.is_quarantined <> source.is_quarantined\n",
    ")\n",
    "THEN UPDATE SET\n",
    "    target.is_current = false,\n",
    "    target.modified_date = current_timestamp()\n",
    "\n",
    "\n",
    "WHEN NOT MATCHED\n",
    "THEN INSERT (\n",
    "    Patient_Key,\n",
    "    SRC_PatientID,\n",
    "    FirstName,\n",
    "    LastName,\n",
    "    MiddleName,\n",
    "    SSN,\n",
    "    PhoneNumber,\n",
    "    Gender,\n",
    "    DOB,\n",
    "    Address,\n",
    "    SRC_ModifiedDate,\n",
    "    datasource,\n",
    "    is_quarantined,\n",
    "    inserted_date,\n",
    "    modified_date,\n",
    "    is_current\n",
    ")\n",
    "VALUES (\n",
    "    source.Patient_Key,\n",
    "    source.SRC_PatientID,\n",
    "    source.FirstName,\n",
    "    source.LastName,\n",
    "    source.MiddleName,\n",
    "    source.SSN,\n",
    "    source.PhoneNumber,\n",
    "    source.Gender,\n",
    "    source.DOB,\n",
    "    source.Address,\n",
    "    source.SRC_ModifiedDate,\n",
    "    source.datasource,\n",
    "    source.is_quarantined,\n",
    "    current_timestamp(), -- Set inserted_date to current timestamp\n",
    "    current_timestamp(), -- Set modified_date to current timestamp\n",
    "    true -- Mark as current\n",
    ");\n"
   ]
  },
  {
   "cell_type": "code",
   "execution_count": 0,
   "metadata": {
    "application/vnd.databricks.v1+cell": {
     "cellMetadata": {
      "byteLimit": 2048000,
      "implicitDf": true,
      "rowLimit": 10000
     },
     "inputWidgets": {},
     "nuid": "c39cda3c-48be-4aa3-8134-320a9c9ece91",
     "showTitle": false,
     "tableResultSettingsMap": {},
     "title": ""
    }
   },
   "outputs": [],
   "source": [
    "%sql\n",
    "MERGE INTO silver.patients AS target\n",
    "USING quality_checks AS source\n",
    "ON target.Patient_Key = source.Patient_Key\n",
    "AND target.is_current = true \n",
    "-- Step 2: Insert new and updated records into the Delta table, marking them as current\n",
    "WHEN NOT MATCHED\n",
    "THEN INSERT (\n",
    "    Patient_Key,\n",
    "    SRC_PatientID,\n",
    "    FirstName,\n",
    "    LastName,\n",
    "    MiddleName,\n",
    "    SSN,\n",
    "    PhoneNumber,\n",
    "    Gender,\n",
    "    DOB,\n",
    "    Address,\n",
    "    SRC_ModifiedDate,\n",
    "    datasource,\n",
    "    is_quarantined,\n",
    "    inserted_date,\n",
    "    modified_date,\n",
    "    is_current\n",
    ")\n",
    "VALUES (\n",
    "    source.Patient_Key,\n",
    "    source.SRC_PatientID,\n",
    "    source.FirstName,\n",
    "    source.LastName,\n",
    "    source.MiddleName,\n",
    "    source.SSN,\n",
    "    source.PhoneNumber,\n",
    "    source.Gender,\n",
    "    source.DOB,\n",
    "    source.Address,\n",
    "    source.SRC_ModifiedDate,\n",
    "    source.datasource,\n",
    "    source.is_quarantined,\n",
    "    current_timestamp(), -- Set inserted_date to current timestamp\n",
    "    current_timestamp(), -- Set modified_date to current timestamp\n",
    "    true -- Mark as current\n",
    ");\n"
   ]
  }
 ],
 "metadata": {
  "application/vnd.databricks.v1+notebook": {
   "computePreferences": null,
   "dashboards": [],
   "environmentMetadata": {
    "base_environment": "",
    "environment_version": "2"
   },
   "inputWidgetPreferences": null,
   "language": "python",
   "notebookMetadata": {
    "mostRecentlyExecutedCommandWithImplicitDF": {
     "commandId": 8438976741869496,
     "dataframes": [
      "_sqldf"
     ]
    },
    "pythonIndentUnit": 4
   },
   "notebookName": "patient_silver",
   "widgets": {}
  },
  "language_info": {
   "name": "python"
  }
 },
 "nbformat": 4,
 "nbformat_minor": 0
}
